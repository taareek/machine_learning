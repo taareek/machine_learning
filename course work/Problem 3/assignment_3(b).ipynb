{
 "cells": [
  {
   "cell_type": "raw",
   "id": "74fc0eaa",
   "metadata": {},
   "source": [
    "Importing necessary Libraries"
   ]
  },
  {
   "cell_type": "code",
   "execution_count": 1,
   "id": "88f722f1",
   "metadata": {},
   "outputs": [],
   "source": [
    "import numpy as np\n",
    "import pandas as pd\n",
    "from matplotlib import pyplot as plt\n",
    "import matplotlib.colors as colors\n",
    "import seaborn as sns\n",
    "import itertools\n",
    "from scipy.stats import norm\n",
    "import scipy.stats\n",
    "from sklearn.naive_bayes import GaussianNB\n",
    "\n",
    "%matplotlib inline\n",
    "sns.set()"
   ]
  },
  {
   "cell_type": "code",
   "execution_count": 2,
   "id": "9bc45828",
   "metadata": {},
   "outputs": [],
   "source": [
    "df = pd.read_csv('iris.data')\n",
    "column_name = ['sepal_length', 'sepal_width', 'petal_length', 'petal_width', 'class']\n",
    "df.columns = column_name"
   ]
  },
  {
   "cell_type": "code",
   "execution_count": 3,
   "id": "e71fcf85",
   "metadata": {},
   "outputs": [
    {
     "data": {
      "text/html": [
       "<div>\n",
       "<style scoped>\n",
       "    .dataframe tbody tr th:only-of-type {\n",
       "        vertical-align: middle;\n",
       "    }\n",
       "\n",
       "    .dataframe tbody tr th {\n",
       "        vertical-align: top;\n",
       "    }\n",
       "\n",
       "    .dataframe thead th {\n",
       "        text-align: right;\n",
       "    }\n",
       "</style>\n",
       "<table border=\"1\" class=\"dataframe\">\n",
       "  <thead>\n",
       "    <tr style=\"text-align: right;\">\n",
       "      <th></th>\n",
       "      <th>sepal_length</th>\n",
       "      <th>sepal_width</th>\n",
       "      <th>petal_length</th>\n",
       "      <th>petal_width</th>\n",
       "      <th>class</th>\n",
       "    </tr>\n",
       "  </thead>\n",
       "  <tbody>\n",
       "    <tr>\n",
       "      <th>0</th>\n",
       "      <td>4.9</td>\n",
       "      <td>3.0</td>\n",
       "      <td>1.4</td>\n",
       "      <td>0.2</td>\n",
       "      <td>Iris-setosa</td>\n",
       "    </tr>\n",
       "    <tr>\n",
       "      <th>1</th>\n",
       "      <td>4.7</td>\n",
       "      <td>3.2</td>\n",
       "      <td>1.3</td>\n",
       "      <td>0.2</td>\n",
       "      <td>Iris-setosa</td>\n",
       "    </tr>\n",
       "    <tr>\n",
       "      <th>2</th>\n",
       "      <td>4.6</td>\n",
       "      <td>3.1</td>\n",
       "      <td>1.5</td>\n",
       "      <td>0.2</td>\n",
       "      <td>Iris-setosa</td>\n",
       "    </tr>\n",
       "    <tr>\n",
       "      <th>3</th>\n",
       "      <td>5.0</td>\n",
       "      <td>3.6</td>\n",
       "      <td>1.4</td>\n",
       "      <td>0.2</td>\n",
       "      <td>Iris-setosa</td>\n",
       "    </tr>\n",
       "    <tr>\n",
       "      <th>4</th>\n",
       "      <td>5.4</td>\n",
       "      <td>3.9</td>\n",
       "      <td>1.7</td>\n",
       "      <td>0.4</td>\n",
       "      <td>Iris-setosa</td>\n",
       "    </tr>\n",
       "  </tbody>\n",
       "</table>\n",
       "</div>"
      ],
      "text/plain": [
       "   sepal_length  sepal_width  petal_length  petal_width        class\n",
       "0           4.9          3.0           1.4          0.2  Iris-setosa\n",
       "1           4.7          3.2           1.3          0.2  Iris-setosa\n",
       "2           4.6          3.1           1.5          0.2  Iris-setosa\n",
       "3           5.0          3.6           1.4          0.2  Iris-setosa\n",
       "4           5.4          3.9           1.7          0.4  Iris-setosa"
      ]
     },
     "execution_count": 3,
     "metadata": {},
     "output_type": "execute_result"
    }
   ],
   "source": [
    "df.head()"
   ]
  },
  {
   "cell_type": "code",
   "execution_count": 4,
   "id": "bfd583f4",
   "metadata": {},
   "outputs": [
    {
     "data": {
      "text/plain": [
       "Text(0.5, 1.0, 'Scatter plot')"
      ]
     },
     "execution_count": 4,
     "metadata": {},
     "output_type": "execute_result"
    },
    {
     "data": {
      "image/png": "[encoded data removed]",
      "text/plain": [
       "<Figure size 681.225x576 with 1 Axes>"
      ]
     },
     "metadata": {},
     "output_type": "display_data"
    }
   ],
   "source": [
    "# We are supposed to tkae sepal length and petal length features\n",
    "dataset = df[[\"sepal_length\", \"petal_length\",'class']]\n",
    "#Plot the scatter of sepal length vs petal legth\n",
    "sns.FacetGrid(df, hue=\"class\", height=8) .map(plt.scatter,\"sepal_length\", \"petal_length\", )  .add_legend()\n",
    "plt.title('Scatter plot')"
   ]
  },
  {
   "cell_type": "code",
   "execution_count": 5,
   "id": "f9d1a0b9",
   "metadata": {},
   "outputs": [
    {
     "data": {
      "text/html": [
       "<div>\n",
       "<style scoped>\n",
       "    .dataframe tbody tr th:only-of-type {\n",
       "        vertical-align: middle;\n",
       "    }\n",
       "\n",
       "    .dataframe tbody tr th {\n",
       "        vertical-align: top;\n",
       "    }\n",
       "\n",
       "    .dataframe thead th {\n",
       "        text-align: right;\n",
       "    }\n",
       "</style>\n",
       "<table border=\"1\" class=\"dataframe\">\n",
       "  <thead>\n",
       "    <tr style=\"text-align: right;\">\n",
       "      <th></th>\n",
       "      <th>sepal_length</th>\n",
       "      <th>petal_length</th>\n",
       "      <th>class</th>\n",
       "    </tr>\n",
       "  </thead>\n",
       "  <tbody>\n",
       "    <tr>\n",
       "      <th>0</th>\n",
       "      <td>4.9</td>\n",
       "      <td>1.4</td>\n",
       "      <td>Iris-setosa</td>\n",
       "    </tr>\n",
       "    <tr>\n",
       "      <th>1</th>\n",
       "      <td>4.7</td>\n",
       "      <td>1.3</td>\n",
       "      <td>Iris-setosa</td>\n",
       "    </tr>\n",
       "    <tr>\n",
       "      <th>2</th>\n",
       "      <td>4.6</td>\n",
       "      <td>1.5</td>\n",
       "      <td>Iris-setosa</td>\n",
       "    </tr>\n",
       "    <tr>\n",
       "      <th>3</th>\n",
       "      <td>5.0</td>\n",
       "      <td>1.4</td>\n",
       "      <td>Iris-setosa</td>\n",
       "    </tr>\n",
       "    <tr>\n",
       "      <th>4</th>\n",
       "      <td>5.4</td>\n",
       "      <td>1.7</td>\n",
       "      <td>Iris-setosa</td>\n",
       "    </tr>\n",
       "  </tbody>\n",
       "</table>\n",
       "</div>"
      ],
      "text/plain": [
       "   sepal_length  petal_length        class\n",
       "0           4.9           1.4  Iris-setosa\n",
       "1           4.7           1.3  Iris-setosa\n",
       "2           4.6           1.5  Iris-setosa\n",
       "3           5.0           1.4  Iris-setosa\n",
       "4           5.4           1.7  Iris-setosa"
      ]
     },
     "execution_count": 5,
     "metadata": {},
     "output_type": "execute_result"
    }
   ],
   "source": [
    "# getting the first five elements of our dataset\n",
    "dataset.head()"
   ]
  },
  {
   "cell_type": "code",
   "execution_count": 6,
   "id": "2bc53d00",
   "metadata": {},
   "outputs": [
    {
     "name": "stdout",
     "output_type": "stream",
     "text": [
      "Minimun sepal lenght:  sepal_length    4.3\n",
      "dtype: float64\n",
      "Maximum sepal length:  sepal_length    7.9\n",
      "dtype: float64\n"
     ]
    }
   ],
   "source": [
    "sepal = dataset[['sepal_length']]\n",
    "min_sepal_length = sepal.min()\n",
    "max_sepal_length = sepal.max()\n",
    "print('Minimun sepal lenght: ', min_sepal_length)\n",
    "print(\"Maximum sepal length: \", max_sepal_length)"
   ]
  },
  {
   "cell_type": "code",
   "execution_count": 7,
   "id": "2684b52e",
   "metadata": {},
   "outputs": [
    {
     "name": "stdout",
     "output_type": "stream",
     "text": [
      "Minimun petal lenght:  petal_length    1.0\n",
      "dtype: float64\n",
      "Maximum petal length:  petal_length    6.9\n",
      "dtype: float64\n"
     ]
    }
   ],
   "source": [
    "petal = dataset[['petal_length']]\n",
    "min_petal_length = petal.min()\n",
    "max_petal_length = petal.max()\n",
    "print('Minimun petal lenght: ', min_petal_length)\n",
    "print(\"Maximum petal length: \", max_petal_length)"
   ]
  },
  {
   "cell_type": "code",
   "execution_count": 8,
   "id": "eb82b745",
   "metadata": {},
   "outputs": [],
   "source": [
    "#Returns the class for which the Gaussian Naive Bayes objective function has greatest value\n",
    "\n",
    "def predict_NB_gaussian_class(X,mu_list,std_list,pi_list): \n",
    "    \n",
    "    scores_list = []\n",
    "    classes = len(mu_list)\n",
    "    \n",
    "    for p in range(classes):\n",
    "        score = (norm.pdf(x = X[0], loc = mu_list[p][0][0], scale = std_list[p][0][0] )  \n",
    "                * norm.pdf(x = X[1], loc = mu_list[p][0][1], scale = std_list[p][0][1] ) \n",
    "                * pi_list[p])\n",
    "        scores_list.append(score)\n",
    "             \n",
    "    return np.argmax(scores_list)\n",
    "\n",
    "#Returns the predicted class from an optimal bayes classifier - distributions must be known\n",
    "\n",
    "def predict_Bayes_class(X,mu_list,sigma_list): \n",
    "    \n",
    "    scores_list = []\n",
    "    classes = len(mu_list)\n",
    "    \n",
    "    # Generating a Gaussian bivariate distribution\n",
    "    # with given mean and covariance matrix\n",
    "    for p in range(classes):\n",
    "        score = scipy.stats.multivariate_normal.pdf(X, mean=mu_list[p], cov=sigma_list[p]) \n",
    "        scores_list.append(score)\n",
    "             \n",
    "    return np.argmax(scores_list)"
   ]
  },
  {
   "cell_type": "code",
   "execution_count": 9,
   "id": "cd29581f",
   "metadata": {},
   "outputs": [
    {
     "name": "stdout",
     "output_type": "stream",
     "text": [
      "mu list: [array([[5.00408163, 1.46530612]]), array([[5.936, 4.26 ]]), array([[6.588, 5.552]])]\n",
      "\n",
      "std list:  [array([[0.35587872, 0.17506073]]), array([[0.51617115, 0.46991098]]), array([[0.63587959, 0.5518947 ]])]\n",
      "\n",
      "pi list:  [0.33557047 0.33557047 0.32885906]\n"
     ]
    }
   ],
   "source": [
    "mu_list = np.split(dataset.groupby('class').mean().values,[1,2])\n",
    "print('mu list:',mu_list)\n",
    "print()\n",
    "std_list = np.split(dataset.groupby('class').std().values,[1,2], axis = 0)\n",
    "print('std list: ', std_list)\n",
    "print()\n",
    "pi_list = dataset.iloc[:,2].value_counts().values / len(dataset)\n",
    "print('pi list: ', pi_list)"
   ]
  },
  {
   "cell_type": "code",
   "execution_count": 10,
   "id": "c0342e26",
   "metadata": {},
   "outputs": [
    {
     "data": {
      "image/png": "[encoded data removed]",
      "text/plain": [
       "<Figure size 825.225x720 with 1 Axes>"
      ]
     },
     "metadata": {},
     "output_type": "display_data"
    }
   ],
   "source": [
    "#Estimating the parameters\n",
    "mu_list = np.split(dataset.groupby('class').mean().values,[1,2])\n",
    "std_list = np.split(dataset.groupby('class').std().values,[1,2], axis = 0)\n",
    "pi_list = dataset.iloc[:,2].value_counts().values / len(dataset)\n",
    "\n",
    "# Our 2-dimensional distribution will be over variables X and Y\n",
    "N = 100\n",
    "X = np.linspace(4, 8, N)     # AS our min sepal length 4.3 and max 7.9\n",
    "Y = np.linspace(0.8, 7, N)   # As our min petal length 1.0 and max is 6.9\n",
    "X, Y = np.meshgrid(X, Y)\n",
    "\n",
    "\n",
    "color_list = ['Blues','Reds','Greens']\n",
    "my_norm = colors.Normalize(vmin=-1.,vmax=1.)\n",
    "\n",
    "g = sns.FacetGrid(dataset, hue=\"class\", height=10, palette = 'colorblind') .map(plt.scatter, \"sepal_length\", \"petal_length\",)  .add_legend()\n",
    "my_ax = g.ax\n",
    "\n",
    "\n",
    "#Computing the predicted class function for each value on the grid\n",
    "zz = np.array(  [predict_NB_gaussian_class( np.array([xx,yy]).reshape(-1,1), mu_list, std_list, pi_list) \n",
    "                     for xx, yy in zip(np.ravel(X), np.ravel(Y)) ] )\n",
    "\n",
    "\n",
    "#Reshaping the predicted class into the meshgrid shape\n",
    "Z = zz.reshape(X.shape)\n",
    "\n",
    "\n",
    "#Plot the filled and boundary contours\n",
    "my_ax.contourf( X, Y, Z, 2, alpha = .1, colors = ('blue','red','green'))\n",
    "my_ax.contour( X, Y, Z, 2, alpha = 1, colors = ('blue','red','green'))\n",
    "\n",
    "# Addd axis and title\n",
    "my_ax.set_xlabel('Sepal length')\n",
    "my_ax.set_ylabel('Petal length')\n",
    "my_ax.set_title('Gaussian Naive Bayes decision boundaries')\n",
    "\n",
    "plt.show()"
   ]
  },
  {
   "cell_type": "code",
   "execution_count": null,
   "id": "17013410",
   "metadata": {},
   "outputs": [],
   "source": []
  }
 ],
 "metadata": {
  "kernelspec": {
   "display_name": "Python 3",
   "language": "python",
   "name": "python3"
  },
  "language_info": {
   "codemirror_mode": {
    "name": "ipython",
    "version": 3
   },
   "file_extension": ".py",
   "mimetype": "text/x-python",
   "name": "python",
   "nbconvert_exporter": "python",
   "pygments_lexer": "ipython3",
   "version": "3.8.5"
  }
 },
 "nbformat": 4,
 "nbformat_minor": 5
}
