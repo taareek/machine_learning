{
 "cells": [
  {
   "cell_type": "code",
   "execution_count": 1,
   "id": "461d83c8",
   "metadata": {},
   "outputs": [
    {
     "data": {
      "text/html": [
       "<div>\n",
       "<style scoped>\n",
       "    .dataframe tbody tr th:only-of-type {\n",
       "        vertical-align: middle;\n",
       "    }\n",
       "\n",
       "    .dataframe tbody tr th {\n",
       "        vertical-align: top;\n",
       "    }\n",
       "\n",
       "    .dataframe thead th {\n",
       "        text-align: right;\n",
       "    }\n",
       "</style>\n",
       "<table border=\"1\" class=\"dataframe\">\n",
       "  <thead>\n",
       "    <tr style=\"text-align: right;\">\n",
       "      <th></th>\n",
       "      <th>0</th>\n",
       "      <th>1</th>\n",
       "      <th>2</th>\n",
       "    </tr>\n",
       "  </thead>\n",
       "  <tbody>\n",
       "    <tr>\n",
       "      <th>0</th>\n",
       "      <td>25.54</td>\n",
       "      <td>17.47</td>\n",
       "      <td>1.0</td>\n",
       "    </tr>\n",
       "    <tr>\n",
       "      <th>1</th>\n",
       "      <td>22.21</td>\n",
       "      <td>12.29</td>\n",
       "      <td>1.0</td>\n",
       "    </tr>\n",
       "    <tr>\n",
       "      <th>2</th>\n",
       "      <td>20.92</td>\n",
       "      <td>14.03</td>\n",
       "      <td>1.0</td>\n",
       "    </tr>\n",
       "    <tr>\n",
       "      <th>3</th>\n",
       "      <td>26.45</td>\n",
       "      <td>21.21</td>\n",
       "      <td>1.0</td>\n",
       "    </tr>\n",
       "    <tr>\n",
       "      <th>4</th>\n",
       "      <td>14.33</td>\n",
       "      <td>21.70</td>\n",
       "      <td>1.0</td>\n",
       "    </tr>\n",
       "  </tbody>\n",
       "</table>\n",
       "</div>"
      ],
      "text/plain": [
       "       0      1    2\n",
       "0  25.54  17.47  1.0\n",
       "1  22.21  12.29  1.0\n",
       "2  20.92  14.03  1.0\n",
       "3  26.45  21.21  1.0\n",
       "4  14.33  21.70  1.0"
      ]
     },
     "execution_count": 1,
     "metadata": {},
     "output_type": "execute_result"
    }
   ],
   "source": [
    "import pandas as pd\n",
    "data = pd.read_csv(\"data.csv\", header= None)\n",
    "data.head()"
   ]
  },
  {
   "cell_type": "code",
   "execution_count": 2,
   "id": "3f1572cd",
   "metadata": {},
   "outputs": [
    {
     "data": {
      "text/html": [
       "<div>\n",
       "<style scoped>\n",
       "    .dataframe tbody tr th:only-of-type {\n",
       "        vertical-align: middle;\n",
       "    }\n",
       "\n",
       "    .dataframe tbody tr th {\n",
       "        vertical-align: top;\n",
       "    }\n",
       "\n",
       "    .dataframe thead th {\n",
       "        text-align: right;\n",
       "    }\n",
       "</style>\n",
       "<table border=\"1\" class=\"dataframe\">\n",
       "  <thead>\n",
       "    <tr style=\"text-align: right;\">\n",
       "      <th></th>\n",
       "      <th>f1</th>\n",
       "      <th>f2</th>\n",
       "      <th>class label</th>\n",
       "    </tr>\n",
       "  </thead>\n",
       "  <tbody>\n",
       "    <tr>\n",
       "      <th>0</th>\n",
       "      <td>25.54</td>\n",
       "      <td>17.47</td>\n",
       "      <td>1.0</td>\n",
       "    </tr>\n",
       "    <tr>\n",
       "      <th>1</th>\n",
       "      <td>22.21</td>\n",
       "      <td>12.29</td>\n",
       "      <td>1.0</td>\n",
       "    </tr>\n",
       "    <tr>\n",
       "      <th>2</th>\n",
       "      <td>20.92</td>\n",
       "      <td>14.03</td>\n",
       "      <td>1.0</td>\n",
       "    </tr>\n",
       "    <tr>\n",
       "      <th>3</th>\n",
       "      <td>26.45</td>\n",
       "      <td>21.21</td>\n",
       "      <td>1.0</td>\n",
       "    </tr>\n",
       "    <tr>\n",
       "      <th>4</th>\n",
       "      <td>14.33</td>\n",
       "      <td>21.70</td>\n",
       "      <td>1.0</td>\n",
       "    </tr>\n",
       "  </tbody>\n",
       "</table>\n",
       "</div>"
      ],
      "text/plain": [
       "      f1     f2  class label\n",
       "0  25.54  17.47          1.0\n",
       "1  22.21  12.29          1.0\n",
       "2  20.92  14.03          1.0\n",
       "3  26.45  21.21          1.0\n",
       "4  14.33  21.70          1.0"
      ]
     },
     "execution_count": 2,
     "metadata": {},
     "output_type": "execute_result"
    }
   ],
   "source": [
    "column_name = ['f1', 'f2', 'class label']\n",
    "data.columns = column_name\n",
    "data.head()"
   ]
  },
  {
   "cell_type": "raw",
   "id": "391cb3da",
   "metadata": {},
   "source": [
    "Frequency table and histogram for feature f1"
   ]
  },
  {
   "cell_type": "code",
   "execution_count": 3,
   "id": "788cb10d",
   "metadata": {},
   "outputs": [
    {
     "name": "stdout",
     "output_type": "stream",
     "text": [
      "10.08\n",
      "34.05\n"
     ]
    }
   ],
   "source": [
    "feature_f1 = data['f1']\n",
    "min_f1 = data['f1'].min()\n",
    "max_f1 = data['f1'].max()\n",
    "print(min_f1)\n",
    "print(max_f1)"
   ]
  },
  {
   "cell_type": "code",
   "execution_count": 4,
   "id": "d1f42cf0",
   "metadata": {},
   "outputs": [
    {
     "name": "stdout",
     "output_type": "stream",
     "text": [
      "[10.08   16.0725 22.065  28.0575 34.05  ]\n"
     ]
    }
   ],
   "source": [
    "import numpy as np\n",
    "bins = np.linspace(min_f1, max_f1, num= 5)\n",
    "print(bins)"
   ]
  },
  {
   "cell_type": "code",
   "execution_count": 5,
   "id": "8c572d1c",
   "metadata": {},
   "outputs": [
    {
     "data": {
      "text/plain": [
       "(array([ 7., 10., 17.,  6.]),\n",
       " array([10.08  , 16.0725, 22.065 , 28.0575, 34.05  ]),\n",
       " <BarContainer object of 4 artists>)"
      ]
     },
     "execution_count": 5,
     "metadata": {},
     "output_type": "execute_result"
    },
    {
     "data": {
      "image/png": "[encoded data removed]",
      "text/plain": [
       "<Figure size 432x288 with 1 Axes>"
      ]
     },
     "metadata": {
      "needs_background": "light"
     },
     "output_type": "display_data"
    }
   ],
   "source": [
    "# Plotting the histogram\n",
    "import matplotlib.pyplot as plt\n",
    "plt.hist(feature_f1, bins= bins)"
   ]
  },
  {
   "cell_type": "raw",
   "id": "a03efb24",
   "metadata": {},
   "source": [
    "Frequency table for feature f2"
   ]
  },
  {
   "cell_type": "code",
   "execution_count": 6,
   "id": "913aa12d",
   "metadata": {},
   "outputs": [
    {
     "name": "stdout",
     "output_type": "stream",
     "text": [
      "0.26\n",
      "23.78\n"
     ]
    }
   ],
   "source": [
    "feature_f2 = data['f2']\n",
    "min_f2 = data['f2'].min()\n",
    "max_f2 = data['f2'].max()\n",
    "print(min_f2)\n",
    "print(max_f2)"
   ]
  },
  {
   "cell_type": "code",
   "execution_count": 7,
   "id": "122489a4",
   "metadata": {},
   "outputs": [
    {
     "name": "stdout",
     "output_type": "stream",
     "text": [
      "[ 0.26  6.14 12.02 17.9  23.78]\n"
     ]
    }
   ],
   "source": [
    "# Creating bins\n",
    "import numpy as np\n",
    "bins = np.linspace(min_f2, max_f2, num= 5)\n",
    "print(bins)"
   ]
  },
  {
   "cell_type": "code",
   "execution_count": 8,
   "id": "d1cfc5f5",
   "metadata": {},
   "outputs": [
    {
     "data": {
      "text/plain": [
       "(array([ 5., 12., 15.,  8.]),\n",
       " array([ 0.26,  6.14, 12.02, 17.9 , 23.78]),\n",
       " <BarContainer object of 4 artists>)"
      ]
     },
     "execution_count": 8,
     "metadata": {},
     "output_type": "execute_result"
    },
    {
     "data": {
      "image/png": "[encoded data removed]",
      "text/plain": [
       "<Figure size 432x288 with 1 Axes>"
      ]
     },
     "metadata": {
      "needs_background": "light"
     },
     "output_type": "display_data"
    }
   ],
   "source": [
    "# Plotting the histogram \n",
    "plt.hist(feature_f2, bins = bins)"
   ]
  },
  {
   "cell_type": "raw",
   "id": "23f52ec9",
   "metadata": {},
   "source": [
    "Counting frequency for f1 and f2"
   ]
  },
  {
   "cell_type": "code",
   "execution_count": 9,
   "id": "241517a6",
   "metadata": {},
   "outputs": [],
   "source": [
    "# Converting column dada to numpy \n",
    "f1_arr =  np.array(data['f1'])\n",
    "f2_arr =  np.array(data['f2'])"
   ]
  },
  {
   "cell_type": "code",
   "execution_count": 10,
   "id": "23967ab9",
   "metadata": {},
   "outputs": [
    {
     "name": "stdout",
     "output_type": "stream",
     "text": [
      "<class 'numpy.ndarray'>\n",
      "<class 'numpy.ndarray'>\n"
     ]
    }
   ],
   "source": [
    "print(type(f1_arr))\n",
    "print(type(f2_arr))"
   ]
  },
  {
   "cell_type": "code",
   "execution_count": 11,
   "id": "cf8a20ca",
   "metadata": {},
   "outputs": [],
   "source": [
    "total = np.concatenate((f1_arr, f2_arr), axis =None)"
   ]
  },
  {
   "cell_type": "code",
   "execution_count": 12,
   "id": "6446ae56",
   "metadata": {},
   "outputs": [
    {
     "data": {
      "text/plain": [
       "(80,)"
      ]
     },
     "execution_count": 12,
     "metadata": {},
     "output_type": "execute_result"
    }
   ],
   "source": [
    "total.shape"
   ]
  },
  {
   "cell_type": "code",
   "execution_count": 13,
   "id": "da49e149",
   "metadata": {},
   "outputs": [
    {
     "name": "stdout",
     "output_type": "stream",
     "text": [
      "Max Value:  34.05\n",
      "Min Value:  0.26\n"
     ]
    }
   ],
   "source": [
    "# Getting max and min value\n",
    "max_val = total.max()\n",
    "print(\"Max Value: \",max_val)\n",
    "min_val = total.min()\n",
    "print(\"Min Value: \",min_val)"
   ]
  },
  {
   "cell_type": "code",
   "execution_count": 14,
   "id": "6fb95d62",
   "metadata": {},
   "outputs": [
    {
     "name": "stdout",
     "output_type": "stream",
     "text": [
      "[ 0.26    8.7075 17.155  25.6025 34.05  ]\n"
     ]
    }
   ],
   "source": [
    "num_bins = np.linspace(min_val, max_val, num= 5)\n",
    "print(num_bins)"
   ]
  },
  {
   "cell_type": "code",
   "execution_count": 15,
   "id": "079512ab",
   "metadata": {},
   "outputs": [],
   "source": [
    "# Converting class label as numoy array\n",
    "classes = np.array(data['class label'])"
   ]
  },
  {
   "cell_type": "code",
   "execution_count": 16,
   "id": "406e9d9d",
   "metadata": {},
   "outputs": [
    {
     "name": "stdout",
     "output_type": "stream",
     "text": [
      "[10. 15. 20. 25. 30. 35.]\n"
     ]
    }
   ],
   "source": [
    "bin_size = np.linspace(10, 35, num= 6)\n",
    "print(bin_size)"
   ]
  },
  {
   "cell_type": "code",
   "execution_count": 17,
   "id": "452b6e7a",
   "metadata": {},
   "outputs": [],
   "source": [
    "def count_features(min_bin, max_bin, feature_n, class_label, classes):\n",
    "    total = 0\n",
    "    for i in range(len(feature_n)):\n",
    "        if (min_bin < feature_n[i] <= max_bin) and (class_label == classes[i]):\n",
    "            total+= 1\n",
    "    return total"
   ]
  },
  {
   "cell_type": "code",
   "execution_count": 19,
   "id": "649c7bbd",
   "metadata": {},
   "outputs": [
    {
     "name": "stdout",
     "output_type": "stream",
     "text": [
      "F1_class_1(0-10):  0\n",
      "F1_class_2(0-10):  0\n",
      "F1_class_1(10-15):  6\n",
      "F1_class_2(10-15):  1\n",
      "F1_class_1(15-20):  6\n",
      "F1_class_2(15-20):  1\n",
      "F1_class_1(20-25):  6\n",
      "F1_class_2(20-25):  7\n",
      "F1_class_1(25-30):  2\n",
      "F1_class_2(25-30):  6\n",
      "F1_class_1(30-35):  0\n",
      "F1_class_2(30-35):  5\n",
      "Total f1:  40\n"
     ]
    }
   ],
   "source": [
    "# Count for f1 feature\n",
    "\n",
    "f0 = count_features(0, 10, f1_arr, 1, classes)\n",
    "f01 = count_features(0, 10, f1_arr, 2, classes)\n",
    "print(\"F1_class_1(0-10): \", f0)\n",
    "print(\"F1_class_2(0-10): \", f01)\n",
    "\n",
    "f1 = count_features(10,15, f1_arr, 1, classes)\n",
    "f11 = count_features(10, 15, f1_arr, 2, classes)\n",
    "print(\"F1_class_1(10-15): \", f1)\n",
    "print(\"F1_class_2(10-15): \", f11)\n",
    "\n",
    "f2 = count_features(15, 20,  f1_arr, 1, classes)\n",
    "f21 = count_features(15, 20,  f1_arr, 2, classes)\n",
    "print(\"F1_class_1(15-20): \", f2)\n",
    "print(\"F1_class_2(15-20): \", f21)\n",
    "\n",
    "f3 = count_features(20,25,  f1_arr, 1, classes)\n",
    "f31 = count_features(20, 25,  f1_arr, 2, classes)\n",
    "print(\"F1_class_1(20-25): \", f3)\n",
    "print(\"F1_class_2(20-25): \", f31)\n",
    "\n",
    "f4 = count_features(25,30,  f1_arr, 1, classes)\n",
    "f41 = count_features(25,30,  f1_arr, 2, classes)\n",
    "print(\"F1_class_1(25-30): \", f4)\n",
    "print(\"F1_class_2(25-30): \", f41)\n",
    "\n",
    "f5 = count_features(30, 35,  f1_arr, 1, classes)\n",
    "f51 = count_features(30, 35, f1_arr, 2, classes)\n",
    "print(\"F1_class_1(30-35): \", f5)\n",
    "print(\"F1_class_2(30-35): \", f51)\n",
    "\n",
    "print(\"Total f1: \", f0+f01+f1+f11+f2+f21+f3+f31+f4+f41+f5+f51)"
   ]
  },
  {
   "cell_type": "code",
   "execution_count": 20,
   "id": "07974ba7",
   "metadata": {},
   "outputs": [
    {
     "name": "stdout",
     "output_type": "stream",
     "text": [
      "F2_class_1(0-10):  2\n",
      "F2_class_2(0-10):  9\n",
      "F2_class_1(10-15):  7\n",
      "F2_class_2(10-15):  8\n",
      "F2_class_1(15-20):  6\n",
      "F2_class_2(15-20):  3\n",
      "F2_class_1(20-25):  5\n",
      "F2_class_2(20-25):  0\n",
      "F2_class_1(25-30):  0\n",
      "F2_class_2(25-30):  0\n",
      "F2_class_1(30-35):  0\n",
      "F2_class_2(30-35):  0\n",
      "Total f2:  40\n"
     ]
    }
   ],
   "source": [
    "# Count for f2 feature\n",
    "\n",
    "f0 = count_features(0, 10, f2_arr, 1, classes)\n",
    "f01 = count_features(0, 10, f2_arr, 2, classes)\n",
    "print(\"F2_class_1(0-10): \", f0)\n",
    "print(\"F2_class_2(0-10): \", f01)\n",
    "\n",
    "f1 = count_features(10,15, f2_arr, 1, classes)\n",
    "f11 = count_features(10, 15, f2_arr, 2, classes)\n",
    "print(\"F2_class_1(10-15): \", f1)\n",
    "print(\"F2_class_2(10-15): \", f11)\n",
    "\n",
    "f2 = count_features(15, 20,  f2_arr, 1, classes)\n",
    "f21 = count_features(15, 20,  f2_arr, 2, classes)\n",
    "print(\"F2_class_1(15-20): \", f2)\n",
    "print(\"F2_class_2(15-20): \", f21)\n",
    "\n",
    "f3 = count_features(20,25,  f2_arr, 1, classes)\n",
    "f31 = count_features(20, 25,  f2_arr, 2, classes)\n",
    "print(\"F2_class_1(20-25): \", f3)\n",
    "print(\"F2_class_2(20-25): \", f31)\n",
    "\n",
    "f4 = count_features(25,30,  f2_arr, 1, classes)\n",
    "f41 = count_features(25,30,  f2_arr, 2, classes)\n",
    "print(\"F2_class_1(25-30): \", f4)\n",
    "print(\"F2_class_2(25-30): \", f41)\n",
    "\n",
    "f5 = count_features(30, 35,  f2_arr, 1, classes)\n",
    "f51 = count_features(30, 35, f2_arr, 2, classes)\n",
    "print(\"F2_class_1(30-35): \", f5)\n",
    "print(\"F2_class_2(30-35): \", f51)\n",
    "\n",
    "print(\"Total f2: \", f0+f01+f1+f11+f2+f21+f3+f31+f4+f41+f5+f51)"
   ]
  },
  {
   "cell_type": "code",
   "execution_count": 21,
   "id": "a6a17a49",
   "metadata": {},
   "outputs": [
    {
     "data": {
      "image/png": "[encoded data removed]",
      "text/plain": [
       "<Figure size 432x288 with 1 Axes>"
      ]
     },
     "metadata": {
      "needs_background": "light"
     },
     "output_type": "display_data"
    }
   ],
   "source": [
    "data.plot.hist(bins = bin_size, alpha= 0.6)\n",
    "plt.show()"
   ]
  },
  {
   "cell_type": "code",
   "execution_count": null,
   "id": "09117588",
   "metadata": {},
   "outputs": [],
   "source": []
  },
  {
   "cell_type": "code",
   "execution_count": 22,
   "id": "fc3e6160",
   "metadata": {},
   "outputs": [
    {
     "name": "stderr",
     "output_type": "stream",
     "text": [
      "C:\\Users\\SURFACE\\anaconda3\\envs\\deep-learning\\lib\\site-packages\\seaborn\\axisgrid.py:1912: UserWarning: The `size` parameter has been renamed to `height`; please update your code.\n",
      "  warnings.warn(msg, UserWarning)\n"
     ]
    },
    {
     "data": {
      "text/plain": [
       "<seaborn.axisgrid.PairGrid at 0x1f6a6f87a90>"
      ]
     },
     "execution_count": 22,
     "metadata": {},
     "output_type": "execute_result"
    },
    {
     "data": {
      "image/png": "[encoded data removed]",
      "text/plain": [
       "<Figure size 492.375x432 with 6 Axes>"
      ]
     },
     "metadata": {
      "needs_background": "light"
     },
     "output_type": "display_data"
    }
   ],
   "source": [
    "import seaborn as sns\n",
    "sns.pairplot(data, hue = 'class label', diag_kind= 'hist', size=3, aspect= 1)"
   ]
  },
  {
   "cell_type": "code",
   "execution_count": 49,
   "id": "368e53b2",
   "metadata": {},
   "outputs": [
    {
     "data": {
      "image/png": "[encoded data removed]",
      "text/plain": [
       "<Figure size 720x432 with 4 Axes>"
      ]
     },
     "metadata": {
      "needs_background": "light"
     },
     "output_type": "display_data"
    }
   ],
   "source": [
    "data.hist(edgecolor= 'black', linewidth= 1.2, figsize= (10,6), bins= num_bins, grid= False, rwidth= 0.8);"
   ]
  },
  {
   "cell_type": "code",
   "execution_count": 186,
   "id": "7015083a",
   "metadata": {},
   "outputs": [],
   "source": [
    "data.hist?"
   ]
  },
  {
   "cell_type": "code",
   "execution_count": 34,
   "id": "5eca5b5a",
   "metadata": {},
   "outputs": [
    {
     "data": {
      "image/png": "[encoded data removed]",
      "text/plain": [
       "<Figure size 576x288 with 1 Axes>"
      ]
     },
     "metadata": {
      "needs_background": "light"
     },
     "output_type": "display_data"
    }
   ],
   "source": [
    "import seaborn as sns\n",
    "import warnings\n",
    "warnings.simplefilter(action=\"ignore\", category=FutureWarning)\n",
    "sns.lmplot('f1', 'f2', data, hue='class label', fit_reg=False)\n",
    "fig = plt.gcf()\n",
    "fig.set_size_inches(8, 4)\n",
    "plt.show()"
   ]
  },
  {
   "cell_type": "code",
   "execution_count": null,
   "id": "d336f156",
   "metadata": {},
   "outputs": [],
   "source": [
    " "
   ]
  },
  {
   "cell_type": "code",
   "execution_count": null,
   "id": "0d6f6908",
   "metadata": {},
   "outputs": [],
   "source": []
  }
 ],
 "metadata": {
  "kernelspec": {
   "display_name": "Python 3",
   "language": "python",
   "name": "python3"
  },
  "language_info": {
   "codemirror_mode": {
    "name": "ipython",
    "version": 3
   },
   "file_extension": ".py",
   "mimetype": "text/x-python",
   "name": "python",
   "nbconvert_exporter": "python",
   "pygments_lexer": "ipython3",
   "version": "3.8.5"
  }
 },
 "nbformat": 4,
 "nbformat_minor": 5
}
