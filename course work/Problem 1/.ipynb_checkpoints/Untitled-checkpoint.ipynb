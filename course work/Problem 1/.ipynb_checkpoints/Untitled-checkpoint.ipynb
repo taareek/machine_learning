{
 "cells": [
  {
   "cell_type": "code",
   "execution_count": 152,
   "id": "6fbf449e",
   "metadata": {},
   "outputs": [],
   "source": [
    "import pandas as pd\n",
    "data1 = pd.read_csv(\"data.csv\")"
   ]
  },
  {
   "cell_type": "code",
   "execution_count": 153,
   "id": "71abe176",
   "metadata": {},
   "outputs": [
    {
     "data": {
      "text/html": [
       "<div>\n",
       "<style scoped>\n",
       "    .dataframe tbody tr th:only-of-type {\n",
       "        vertical-align: middle;\n",
       "    }\n",
       "\n",
       "    .dataframe tbody tr th {\n",
       "        vertical-align: top;\n",
       "    }\n",
       "\n",
       "    .dataframe thead th {\n",
       "        text-align: right;\n",
       "    }\n",
       "</style>\n",
       "<table border=\"1\" class=\"dataframe\">\n",
       "  <thead>\n",
       "    <tr style=\"text-align: right;\">\n",
       "      <th></th>\n",
       "      <th>25.54</th>\n",
       "      <th>17.47</th>\n",
       "      <th>1.00</th>\n",
       "    </tr>\n",
       "  </thead>\n",
       "  <tbody>\n",
       "    <tr>\n",
       "      <th>0</th>\n",
       "      <td>22.21</td>\n",
       "      <td>12.29</td>\n",
       "      <td>1.0</td>\n",
       "    </tr>\n",
       "    <tr>\n",
       "      <th>1</th>\n",
       "      <td>20.92</td>\n",
       "      <td>14.03</td>\n",
       "      <td>1.0</td>\n",
       "    </tr>\n",
       "    <tr>\n",
       "      <th>2</th>\n",
       "      <td>26.45</td>\n",
       "      <td>21.21</td>\n",
       "      <td>1.0</td>\n",
       "    </tr>\n",
       "    <tr>\n",
       "      <th>3</th>\n",
       "      <td>14.33</td>\n",
       "      <td>21.70</td>\n",
       "      <td>1.0</td>\n",
       "    </tr>\n",
       "    <tr>\n",
       "      <th>4</th>\n",
       "      <td>16.56</td>\n",
       "      <td>8.80</td>\n",
       "      <td>1.0</td>\n",
       "    </tr>\n",
       "  </tbody>\n",
       "</table>\n",
       "</div>"
      ],
      "text/plain": [
       "   25.54  17.47  1.00\n",
       "0  22.21  12.29   1.0\n",
       "1  20.92  14.03   1.0\n",
       "2  26.45  21.21   1.0\n",
       "3  14.33  21.70   1.0\n",
       "4  16.56   8.80   1.0"
      ]
     },
     "execution_count": 153,
     "metadata": {},
     "output_type": "execute_result"
    }
   ],
   "source": [
    "data1.head()"
   ]
  },
  {
   "cell_type": "code",
   "execution_count": 154,
   "id": "a1cdfdbf",
   "metadata": {},
   "outputs": [
    {
     "data": {
      "text/html": [
       "<div>\n",
       "<style scoped>\n",
       "    .dataframe tbody tr th:only-of-type {\n",
       "        vertical-align: middle;\n",
       "    }\n",
       "\n",
       "    .dataframe tbody tr th {\n",
       "        vertical-align: top;\n",
       "    }\n",
       "\n",
       "    .dataframe thead th {\n",
       "        text-align: right;\n",
       "    }\n",
       "</style>\n",
       "<table border=\"1\" class=\"dataframe\">\n",
       "  <thead>\n",
       "    <tr style=\"text-align: right;\">\n",
       "      <th></th>\n",
       "      <th>0</th>\n",
       "      <th>1</th>\n",
       "      <th>2</th>\n",
       "    </tr>\n",
       "  </thead>\n",
       "  <tbody>\n",
       "    <tr>\n",
       "      <th>0</th>\n",
       "      <td>25.54</td>\n",
       "      <td>17.47</td>\n",
       "      <td>1.0</td>\n",
       "    </tr>\n",
       "    <tr>\n",
       "      <th>1</th>\n",
       "      <td>22.21</td>\n",
       "      <td>12.29</td>\n",
       "      <td>1.0</td>\n",
       "    </tr>\n",
       "    <tr>\n",
       "      <th>2</th>\n",
       "      <td>20.92</td>\n",
       "      <td>14.03</td>\n",
       "      <td>1.0</td>\n",
       "    </tr>\n",
       "    <tr>\n",
       "      <th>3</th>\n",
       "      <td>26.45</td>\n",
       "      <td>21.21</td>\n",
       "      <td>1.0</td>\n",
       "    </tr>\n",
       "    <tr>\n",
       "      <th>4</th>\n",
       "      <td>14.33</td>\n",
       "      <td>21.70</td>\n",
       "      <td>1.0</td>\n",
       "    </tr>\n",
       "  </tbody>\n",
       "</table>\n",
       "</div>"
      ],
      "text/plain": [
       "       0      1    2\n",
       "0  25.54  17.47  1.0\n",
       "1  22.21  12.29  1.0\n",
       "2  20.92  14.03  1.0\n",
       "3  26.45  21.21  1.0\n",
       "4  14.33  21.70  1.0"
      ]
     },
     "execution_count": 154,
     "metadata": {},
     "output_type": "execute_result"
    }
   ],
   "source": [
    "data = pd.read_csv(\"data.csv\", header= None)\n",
    "data.head()"
   ]
  },
  {
   "cell_type": "code",
   "execution_count": 155,
   "id": "e06821a6",
   "metadata": {},
   "outputs": [],
   "source": [
    "column_name = ['f1', 'f2', 'class label']\n",
    "data.columns = column_name"
   ]
  },
  {
   "cell_type": "code",
   "execution_count": 156,
   "id": "15eb384c",
   "metadata": {},
   "outputs": [
    {
     "data": {
      "text/html": [
       "<div>\n",
       "<style scoped>\n",
       "    .dataframe tbody tr th:only-of-type {\n",
       "        vertical-align: middle;\n",
       "    }\n",
       "\n",
       "    .dataframe tbody tr th {\n",
       "        vertical-align: top;\n",
       "    }\n",
       "\n",
       "    .dataframe thead th {\n",
       "        text-align: right;\n",
       "    }\n",
       "</style>\n",
       "<table border=\"1\" class=\"dataframe\">\n",
       "  <thead>\n",
       "    <tr style=\"text-align: right;\">\n",
       "      <th></th>\n",
       "      <th>f1</th>\n",
       "      <th>f2</th>\n",
       "      <th>class label</th>\n",
       "    </tr>\n",
       "  </thead>\n",
       "  <tbody>\n",
       "    <tr>\n",
       "      <th>0</th>\n",
       "      <td>25.54</td>\n",
       "      <td>17.47</td>\n",
       "      <td>1.0</td>\n",
       "    </tr>\n",
       "    <tr>\n",
       "      <th>1</th>\n",
       "      <td>22.21</td>\n",
       "      <td>12.29</td>\n",
       "      <td>1.0</td>\n",
       "    </tr>\n",
       "    <tr>\n",
       "      <th>2</th>\n",
       "      <td>20.92</td>\n",
       "      <td>14.03</td>\n",
       "      <td>1.0</td>\n",
       "    </tr>\n",
       "    <tr>\n",
       "      <th>3</th>\n",
       "      <td>26.45</td>\n",
       "      <td>21.21</td>\n",
       "      <td>1.0</td>\n",
       "    </tr>\n",
       "    <tr>\n",
       "      <th>4</th>\n",
       "      <td>14.33</td>\n",
       "      <td>21.70</td>\n",
       "      <td>1.0</td>\n",
       "    </tr>\n",
       "  </tbody>\n",
       "</table>\n",
       "</div>"
      ],
      "text/plain": [
       "      f1     f2  class label\n",
       "0  25.54  17.47          1.0\n",
       "1  22.21  12.29          1.0\n",
       "2  20.92  14.03          1.0\n",
       "3  26.45  21.21          1.0\n",
       "4  14.33  21.70          1.0"
      ]
     },
     "execution_count": 156,
     "metadata": {},
     "output_type": "execute_result"
    }
   ],
   "source": [
    "data.head()"
   ]
  },
  {
   "cell_type": "code",
   "execution_count": 157,
   "id": "d43997ea",
   "metadata": {},
   "outputs": [
    {
     "data": {
      "text/html": [
       "<div>\n",
       "<style scoped>\n",
       "    .dataframe tbody tr th:only-of-type {\n",
       "        vertical-align: middle;\n",
       "    }\n",
       "\n",
       "    .dataframe tbody tr th {\n",
       "        vertical-align: top;\n",
       "    }\n",
       "\n",
       "    .dataframe thead th {\n",
       "        text-align: right;\n",
       "    }\n",
       "</style>\n",
       "<table border=\"1\" class=\"dataframe\">\n",
       "  <thead>\n",
       "    <tr style=\"text-align: right;\">\n",
       "      <th></th>\n",
       "      <th>f1</th>\n",
       "      <th>f2</th>\n",
       "      <th>class label</th>\n",
       "    </tr>\n",
       "  </thead>\n",
       "  <tbody>\n",
       "    <tr>\n",
       "      <th>35</th>\n",
       "      <td>22.69</td>\n",
       "      <td>12.00</td>\n",
       "      <td>2.0</td>\n",
       "    </tr>\n",
       "    <tr>\n",
       "      <th>36</th>\n",
       "      <td>22.99</td>\n",
       "      <td>7.89</td>\n",
       "      <td>2.0</td>\n",
       "    </tr>\n",
       "    <tr>\n",
       "      <th>37</th>\n",
       "      <td>25.20</td>\n",
       "      <td>14.62</td>\n",
       "      <td>2.0</td>\n",
       "    </tr>\n",
       "    <tr>\n",
       "      <th>38</th>\n",
       "      <td>25.40</td>\n",
       "      <td>1.92</td>\n",
       "      <td>2.0</td>\n",
       "    </tr>\n",
       "    <tr>\n",
       "      <th>39</th>\n",
       "      <td>21.71</td>\n",
       "      <td>9.75</td>\n",
       "      <td>2.0</td>\n",
       "    </tr>\n",
       "  </tbody>\n",
       "</table>\n",
       "</div>"
      ],
      "text/plain": [
       "       f1     f2  class label\n",
       "35  22.69  12.00          2.0\n",
       "36  22.99   7.89          2.0\n",
       "37  25.20  14.62          2.0\n",
       "38  25.40   1.92          2.0\n",
       "39  21.71   9.75          2.0"
      ]
     },
     "execution_count": 157,
     "metadata": {},
     "output_type": "execute_result"
    }
   ],
   "source": [
    "data.tail()"
   ]
  },
  {
   "cell_type": "raw",
   "id": "7234967f",
   "metadata": {},
   "source": [
    "Frequency table and histogram for feature f1"
   ]
  },
  {
   "cell_type": "code",
   "execution_count": 158,
   "id": "757e8657",
   "metadata": {},
   "outputs": [
    {
     "name": "stdout",
     "output_type": "stream",
     "text": [
      "10.08\n",
      "34.05\n"
     ]
    }
   ],
   "source": [
    "feature_f1 = data['f1']\n",
    "min_f1 = data['f1'].min()\n",
    "max_f1 = data['f1'].max()\n",
    "print(min_f1)\n",
    "print(max_f1)"
   ]
  },
  {
   "cell_type": "code",
   "execution_count": 159,
   "id": "c40f1b6f",
   "metadata": {},
   "outputs": [
    {
     "name": "stdout",
     "output_type": "stream",
     "text": [
      "[10.08   16.0725 22.065  28.0575 34.05  ]\n"
     ]
    }
   ],
   "source": [
    "import numpy as np\n",
    "bins = np.linspace(min_f1, max_f1, num= 5)\n",
    "print(bins)"
   ]
  },
  {
   "cell_type": "code",
   "execution_count": 160,
   "id": "e86ad162",
   "metadata": {},
   "outputs": [
    {
     "data": {
      "text/plain": [
       "(array([ 7., 10., 17.,  6.]),\n",
       " array([10.08  , 16.0725, 22.065 , 28.0575, 34.05  ]),\n",
       " <BarContainer object of 4 artists>)"
      ]
     },
     "execution_count": 160,
     "metadata": {},
     "output_type": "execute_result"
    },
    {
     "data": {
      "image/png": "[encoded data removed]",
      "text/plain": [
       "<Figure size 432x288 with 1 Axes>"
      ]
     },
     "metadata": {
      "needs_background": "light"
     },
     "output_type": "display_data"
    }
   ],
   "source": [
    "# Plotting the histogram\n",
    "import matplotlib.pyplot as plt\n",
    "plt.hist(feature_f1, bins= bins)"
   ]
  },
  {
   "cell_type": "raw",
   "id": "69c24527",
   "metadata": {},
   "source": [
    "Frequency table for feature f2"
   ]
  },
  {
   "cell_type": "code",
   "execution_count": 161,
   "id": "614fa8b9",
   "metadata": {},
   "outputs": [
    {
     "name": "stdout",
     "output_type": "stream",
     "text": [
      "0.26\n",
      "23.78\n"
     ]
    }
   ],
   "source": [
    "feature_f2 = data['f2']\n",
    "min_f2 = data['f2'].min()\n",
    "max_f2 = data['f2'].max()\n",
    "print(min_f2)\n",
    "print(max_f2)"
   ]
  },
  {
   "cell_type": "code",
   "execution_count": 162,
   "id": "da486107",
   "metadata": {},
   "outputs": [
    {
     "name": "stdout",
     "output_type": "stream",
     "text": [
      "[ 0.26  6.14 12.02 17.9  23.78]\n"
     ]
    }
   ],
   "source": [
    "# Creating bins\n",
    "import numpy as np\n",
    "bins = np.linspace(min_f2, max_f2, num= 5)\n",
    "print(bins)"
   ]
  },
  {
   "cell_type": "code",
   "execution_count": 163,
   "id": "1939d9fd",
   "metadata": {},
   "outputs": [
    {
     "data": {
      "text/plain": [
       "(array([ 5., 12., 15.,  8.]),\n",
       " array([ 0.26,  6.14, 12.02, 17.9 , 23.78]),\n",
       " <BarContainer object of 4 artists>)"
      ]
     },
     "execution_count": 163,
     "metadata": {},
     "output_type": "execute_result"
    },
    {
     "data": {
      "image/png": "[encoded data removed]",
      "text/plain": [
       "<Figure size 432x288 with 1 Axes>"
      ]
     },
     "metadata": {
      "needs_background": "light"
     },
     "output_type": "display_data"
    }
   ],
   "source": [
    "# Plotting the histogram \n",
    "plt.hist(feature_f2, bins = bins)"
   ]
  },
  {
   "cell_type": "code",
   "execution_count": 164,
   "id": "9df566ba",
   "metadata": {},
   "outputs": [],
   "source": [
    "# Lagbe eta \n",
    "a =  np.array(data['f1'])\n",
    "b =  np.array(data['f2'])"
   ]
  },
  {
   "cell_type": "code",
   "execution_count": 165,
   "id": "b4701ed9",
   "metadata": {},
   "outputs": [
    {
     "name": "stdout",
     "output_type": "stream",
     "text": [
      "<class 'numpy.ndarray'>\n",
      "<class 'numpy.ndarray'>\n"
     ]
    }
   ],
   "source": [
    "print(type(a))\n",
    "print(type(b))"
   ]
  },
  {
   "cell_type": "code",
   "execution_count": 166,
   "id": "04ecdb08",
   "metadata": {},
   "outputs": [],
   "source": [
    "c = np.concatenate((a,b), axis =None)"
   ]
  },
  {
   "cell_type": "code",
   "execution_count": 167,
   "id": "403834cd",
   "metadata": {},
   "outputs": [
    {
     "data": {
      "text/plain": [
       "(80,)"
      ]
     },
     "execution_count": 167,
     "metadata": {},
     "output_type": "execute_result"
    }
   ],
   "source": [
    "c.shape"
   ]
  },
  {
   "cell_type": "code",
   "execution_count": 168,
   "id": "72a5183c",
   "metadata": {},
   "outputs": [
    {
     "name": "stdout",
     "output_type": "stream",
     "text": [
      "34.05\n"
     ]
    }
   ],
   "source": [
    "max_val = c.max()\n",
    "print(max_val)"
   ]
  },
  {
   "cell_type": "code",
   "execution_count": 169,
   "id": "6ef8f79c",
   "metadata": {},
   "outputs": [
    {
     "name": "stdout",
     "output_type": "stream",
     "text": [
      "0.26\n"
     ]
    }
   ],
   "source": [
    "min_val = c.min()\n",
    "print(min_val)"
   ]
  },
  {
   "cell_type": "code",
   "execution_count": 170,
   "id": "726b585a",
   "metadata": {},
   "outputs": [
    {
     "data": {
      "text/plain": [
       "array([ 0.26  ,  8.7075, 17.155 , 25.6025, 34.05  ])"
      ]
     },
     "execution_count": 170,
     "metadata": {},
     "output_type": "execute_result"
    }
   ],
   "source": [
    "num_bins = np.linspace(min_val, max_val, num= 5)\n",
    "num_bins"
   ]
  },
  {
   "cell_type": "code",
   "execution_count": 171,
   "id": "545104dd",
   "metadata": {},
   "outputs": [],
   "source": [
    "s_f1 = a.tolist()\n",
    "#print(len(s_f1))\n",
    "s_f2 = b.tolist()"
   ]
  },
  {
   "cell_type": "code",
   "execution_count": 172,
   "id": "8e78c5be",
   "metadata": {},
   "outputs": [],
   "source": [
    "cls = np.array(data['class label'])"
   ]
  },
  {
   "cell_type": "code",
   "execution_count": 173,
   "id": "6dfd3eaa",
   "metadata": {},
   "outputs": [
    {
     "data": {
      "text/plain": [
       "40"
      ]
     },
     "execution_count": 173,
     "metadata": {},
     "output_type": "execute_result"
    }
   ],
   "source": [
    "len(cls)"
   ]
  },
  {
   "cell_type": "code",
   "execution_count": 174,
   "id": "ae348c3d",
   "metadata": {},
   "outputs": [],
   "source": [
    "def count_features(min_bin, max_bin, feature_n, class_label, cls):\n",
    "    total = 0\n",
    "    for i in range(len(feature_n)):\n",
    "        if (min_bin < feature_n[i] <= max_bin) and (class_label == cls[i]):\n",
    "            total+= 1\n",
    "    return total"
   ]
  },
  {
   "cell_type": "code",
   "execution_count": 175,
   "id": "23fda7fb",
   "metadata": {},
   "outputs": [
    {
     "name": "stdout",
     "output_type": "stream",
     "text": [
      "0\n",
      "0\n",
      "0\n",
      "0\n"
     ]
    }
   ],
   "source": [
    "r0= count_features(0, 8.7075, s_f1, 1, cls)\n",
    "r01= count_features(0, 8.7075, s_f1, 2, cls)\n",
    "r1= count_features(0.26, 8.7075, s_f1, 1, cls)\n",
    "r11= count_features(0.26, 8.7075, s_f1, 2, cls)\n",
    "print(r0)\n",
    "print(r01)\n",
    "print(r1)\n",
    "print(r11)"
   ]
  },
  {
   "cell_type": "code",
   "execution_count": 176,
   "id": "dcdea01a",
   "metadata": {},
   "outputs": [],
   "source": [
    "r2= count_features(8.7075, 17.155, s_f1, 1, cls)\n",
    "r3= count_features(17.155, 25.6025, s_f1, 1, cls)\n",
    "r4= count_features(25.6025, 34.05, s_f1, 1, cls)\n",
    "r21= count_features(8.7075, 17.155, s_f1, 2, cls)\n",
    "r31= count_features(17.155, 25.6025, s_f1, 2, cls)\n",
    "r41= count_features(25.6025, 34.05, s_f1, 2, cls)"
   ]
  },
  {
   "cell_type": "code",
   "execution_count": 178,
   "id": "49303a19",
   "metadata": {},
   "outputs": [
    {
     "name": "stdout",
     "output_type": "stream",
     "text": [
      "8 1\n",
      "11 11\n",
      "1 8\n"
     ]
    }
   ],
   "source": [
    "print(r2, r21)\n",
    "print(r3, r31)\n",
    "print(r4, r41)"
   ]
  },
  {
   "cell_type": "code",
   "execution_count": 179,
   "id": "a4799c88",
   "metadata": {},
   "outputs": [
    {
     "name": "stdout",
     "output_type": "stream",
     "text": [
      "40\n"
     ]
    }
   ],
   "source": [
    "print(r1+r11+r2+r21+r3+r31+r4+r41)"
   ]
  },
  {
   "cell_type": "code",
   "execution_count": 180,
   "id": "cc9670a3",
   "metadata": {},
   "outputs": [
    {
     "data": {
      "text/html": [
       "<div>\n",
       "<style scoped>\n",
       "    .dataframe tbody tr th:only-of-type {\n",
       "        vertical-align: middle;\n",
       "    }\n",
       "\n",
       "    .dataframe tbody tr th {\n",
       "        vertical-align: top;\n",
       "    }\n",
       "\n",
       "    .dataframe thead th {\n",
       "        text-align: right;\n",
       "    }\n",
       "</style>\n",
       "<table border=\"1\" class=\"dataframe\">\n",
       "  <thead>\n",
       "    <tr style=\"text-align: right;\">\n",
       "      <th></th>\n",
       "      <th>f1</th>\n",
       "      <th>f2</th>\n",
       "      <th>class label</th>\n",
       "    </tr>\n",
       "  </thead>\n",
       "  <tbody>\n",
       "    <tr>\n",
       "      <th>0</th>\n",
       "      <td>25.54</td>\n",
       "      <td>17.47</td>\n",
       "      <td>1.0</td>\n",
       "    </tr>\n",
       "    <tr>\n",
       "      <th>1</th>\n",
       "      <td>22.21</td>\n",
       "      <td>12.29</td>\n",
       "      <td>1.0</td>\n",
       "    </tr>\n",
       "    <tr>\n",
       "      <th>2</th>\n",
       "      <td>20.92</td>\n",
       "      <td>14.03</td>\n",
       "      <td>1.0</td>\n",
       "    </tr>\n",
       "    <tr>\n",
       "      <th>3</th>\n",
       "      <td>26.45</td>\n",
       "      <td>21.21</td>\n",
       "      <td>1.0</td>\n",
       "    </tr>\n",
       "    <tr>\n",
       "      <th>4</th>\n",
       "      <td>14.33</td>\n",
       "      <td>21.70</td>\n",
       "      <td>1.0</td>\n",
       "    </tr>\n",
       "    <tr>\n",
       "      <th>5</th>\n",
       "      <td>16.56</td>\n",
       "      <td>8.80</td>\n",
       "      <td>1.0</td>\n",
       "    </tr>\n",
       "    <tr>\n",
       "      <th>6</th>\n",
       "      <td>16.91</td>\n",
       "      <td>4.92</td>\n",
       "      <td>1.0</td>\n",
       "    </tr>\n",
       "    <tr>\n",
       "      <th>7</th>\n",
       "      <td>18.54</td>\n",
       "      <td>17.46</td>\n",
       "      <td>1.0</td>\n",
       "    </tr>\n",
       "    <tr>\n",
       "      <th>8</th>\n",
       "      <td>19.78</td>\n",
       "      <td>11.90</td>\n",
       "      <td>1.0</td>\n",
       "    </tr>\n",
       "    <tr>\n",
       "      <th>9</th>\n",
       "      <td>18.59</td>\n",
       "      <td>12.33</td>\n",
       "      <td>1.0</td>\n",
       "    </tr>\n",
       "    <tr>\n",
       "      <th>10</th>\n",
       "      <td>12.45</td>\n",
       "      <td>18.02</td>\n",
       "      <td>1.0</td>\n",
       "    </tr>\n",
       "    <tr>\n",
       "      <th>11</th>\n",
       "      <td>23.33</td>\n",
       "      <td>11.59</td>\n",
       "      <td>1.0</td>\n",
       "    </tr>\n",
       "    <tr>\n",
       "      <th>12</th>\n",
       "      <td>13.99</td>\n",
       "      <td>21.17</td>\n",
       "      <td>1.0</td>\n",
       "    </tr>\n",
       "    <tr>\n",
       "      <th>13</th>\n",
       "      <td>10.08</td>\n",
       "      <td>19.65</td>\n",
       "      <td>1.0</td>\n",
       "    </tr>\n",
       "    <tr>\n",
       "      <th>14</th>\n",
       "      <td>18.28</td>\n",
       "      <td>10.56</td>\n",
       "      <td>1.0</td>\n",
       "    </tr>\n",
       "    <tr>\n",
       "      <th>15</th>\n",
       "      <td>12.00</td>\n",
       "      <td>23.78</td>\n",
       "      <td>1.0</td>\n",
       "    </tr>\n",
       "    <tr>\n",
       "      <th>16</th>\n",
       "      <td>22.53</td>\n",
       "      <td>14.95</td>\n",
       "      <td>1.0</td>\n",
       "    </tr>\n",
       "    <tr>\n",
       "      <th>17</th>\n",
       "      <td>11.12</td>\n",
       "      <td>19.63</td>\n",
       "      <td>1.0</td>\n",
       "    </tr>\n",
       "    <tr>\n",
       "      <th>18</th>\n",
       "      <td>23.24</td>\n",
       "      <td>20.94</td>\n",
       "      <td>1.0</td>\n",
       "    </tr>\n",
       "    <tr>\n",
       "      <th>19</th>\n",
       "      <td>20.35</td>\n",
       "      <td>16.80</td>\n",
       "      <td>1.0</td>\n",
       "    </tr>\n",
       "    <tr>\n",
       "      <th>20</th>\n",
       "      <td>33.31</td>\n",
       "      <td>15.93</td>\n",
       "      <td>2.0</td>\n",
       "    </tr>\n",
       "    <tr>\n",
       "      <th>21</th>\n",
       "      <td>25.31</td>\n",
       "      <td>14.66</td>\n",
       "      <td>2.0</td>\n",
       "    </tr>\n",
       "    <tr>\n",
       "      <th>22</th>\n",
       "      <td>23.49</td>\n",
       "      <td>5.73</td>\n",
       "      <td>2.0</td>\n",
       "    </tr>\n",
       "    <tr>\n",
       "      <th>23</th>\n",
       "      <td>24.87</td>\n",
       "      <td>12.55</td>\n",
       "      <td>2.0</td>\n",
       "    </tr>\n",
       "    <tr>\n",
       "      <th>24</th>\n",
       "      <td>30.86</td>\n",
       "      <td>15.22</td>\n",
       "      <td>2.0</td>\n",
       "    </tr>\n",
       "    <tr>\n",
       "      <th>25</th>\n",
       "      <td>28.11</td>\n",
       "      <td>8.52</td>\n",
       "      <td>2.0</td>\n",
       "    </tr>\n",
       "    <tr>\n",
       "      <th>26</th>\n",
       "      <td>24.48</td>\n",
       "      <td>3.80</td>\n",
       "      <td>2.0</td>\n",
       "    </tr>\n",
       "    <tr>\n",
       "      <th>27</th>\n",
       "      <td>30.08</td>\n",
       "      <td>16.81</td>\n",
       "      <td>2.0</td>\n",
       "    </tr>\n",
       "    <tr>\n",
       "      <th>28</th>\n",
       "      <td>30.05</td>\n",
       "      <td>7.98</td>\n",
       "      <td>2.0</td>\n",
       "    </tr>\n",
       "    <tr>\n",
       "      <th>29</th>\n",
       "      <td>27.49</td>\n",
       "      <td>11.21</td>\n",
       "      <td>2.0</td>\n",
       "    </tr>\n",
       "    <tr>\n",
       "      <th>30</th>\n",
       "      <td>12.04</td>\n",
       "      <td>9.87</td>\n",
       "      <td>2.0</td>\n",
       "    </tr>\n",
       "    <tr>\n",
       "      <th>31</th>\n",
       "      <td>34.05</td>\n",
       "      <td>11.98</td>\n",
       "      <td>2.0</td>\n",
       "    </tr>\n",
       "    <tr>\n",
       "      <th>32</th>\n",
       "      <td>23.86</td>\n",
       "      <td>14.25</td>\n",
       "      <td>2.0</td>\n",
       "    </tr>\n",
       "    <tr>\n",
       "      <th>33</th>\n",
       "      <td>19.09</td>\n",
       "      <td>13.47</td>\n",
       "      <td>2.0</td>\n",
       "    </tr>\n",
       "    <tr>\n",
       "      <th>34</th>\n",
       "      <td>26.63</td>\n",
       "      <td>0.26</td>\n",
       "      <td>2.0</td>\n",
       "    </tr>\n",
       "    <tr>\n",
       "      <th>35</th>\n",
       "      <td>22.69</td>\n",
       "      <td>12.00</td>\n",
       "      <td>2.0</td>\n",
       "    </tr>\n",
       "    <tr>\n",
       "      <th>36</th>\n",
       "      <td>22.99</td>\n",
       "      <td>7.89</td>\n",
       "      <td>2.0</td>\n",
       "    </tr>\n",
       "    <tr>\n",
       "      <th>37</th>\n",
       "      <td>25.20</td>\n",
       "      <td>14.62</td>\n",
       "      <td>2.0</td>\n",
       "    </tr>\n",
       "    <tr>\n",
       "      <th>38</th>\n",
       "      <td>25.40</td>\n",
       "      <td>1.92</td>\n",
       "      <td>2.0</td>\n",
       "    </tr>\n",
       "    <tr>\n",
       "      <th>39</th>\n",
       "      <td>21.71</td>\n",
       "      <td>9.75</td>\n",
       "      <td>2.0</td>\n",
       "    </tr>\n",
       "  </tbody>\n",
       "</table>\n",
       "</div>"
      ],
      "text/plain": [
       "       f1     f2  class label\n",
       "0   25.54  17.47          1.0\n",
       "1   22.21  12.29          1.0\n",
       "2   20.92  14.03          1.0\n",
       "3   26.45  21.21          1.0\n",
       "4   14.33  21.70          1.0\n",
       "5   16.56   8.80          1.0\n",
       "6   16.91   4.92          1.0\n",
       "7   18.54  17.46          1.0\n",
       "8   19.78  11.90          1.0\n",
       "9   18.59  12.33          1.0\n",
       "10  12.45  18.02          1.0\n",
       "11  23.33  11.59          1.0\n",
       "12  13.99  21.17          1.0\n",
       "13  10.08  19.65          1.0\n",
       "14  18.28  10.56          1.0\n",
       "15  12.00  23.78          1.0\n",
       "16  22.53  14.95          1.0\n",
       "17  11.12  19.63          1.0\n",
       "18  23.24  20.94          1.0\n",
       "19  20.35  16.80          1.0\n",
       "20  33.31  15.93          2.0\n",
       "21  25.31  14.66          2.0\n",
       "22  23.49   5.73          2.0\n",
       "23  24.87  12.55          2.0\n",
       "24  30.86  15.22          2.0\n",
       "25  28.11   8.52          2.0\n",
       "26  24.48   3.80          2.0\n",
       "27  30.08  16.81          2.0\n",
       "28  30.05   7.98          2.0\n",
       "29  27.49  11.21          2.0\n",
       "30  12.04   9.87          2.0\n",
       "31  34.05  11.98          2.0\n",
       "32  23.86  14.25          2.0\n",
       "33  19.09  13.47          2.0\n",
       "34  26.63   0.26          2.0\n",
       "35  22.69  12.00          2.0\n",
       "36  22.99   7.89          2.0\n",
       "37  25.20  14.62          2.0\n",
       "38  25.40   1.92          2.0\n",
       "39  21.71   9.75          2.0"
      ]
     },
     "execution_count": 180,
     "metadata": {},
     "output_type": "execute_result"
    }
   ],
   "source": [
    "data"
   ]
  },
  {
   "cell_type": "code",
   "execution_count": 183,
   "id": "7539ef4a",
   "metadata": {},
   "outputs": [
    {
     "name": "stderr",
     "output_type": "stream",
     "text": [
      "C:\\Users\\SURFACE\\anaconda3\\envs\\deep-learning\\lib\\site-packages\\seaborn\\axisgrid.py:1912: UserWarning: The `size` parameter has been renamed to `height`; please update your code.\n",
      "  warnings.warn(msg, UserWarning)\n"
     ]
    },
    {
     "data": {
      "text/plain": [
       "<seaborn.axisgrid.PairGrid at 0x24fbecfa460>"
      ]
     },
     "execution_count": 183,
     "metadata": {},
     "output_type": "execute_result"
    },
    {
     "data": {
      "image/png": "[encoded data removed]",
      "text/plain": [
       "<Figure size 492.375x432 with 6 Axes>"
      ]
     },
     "metadata": {
      "needs_background": "light"
     },
     "output_type": "display_data"
    }
   ],
   "source": [
    "import seaborn as sns\n",
    "sns.pairplot(data, hue = 'class label', diag_kind= 'hist', size=3, aspect= 1)"
   ]
  },
  {
   "cell_type": "code",
   "execution_count": 187,
   "id": "32aa9cdb",
   "metadata": {},
   "outputs": [
    {
     "data": {
      "image/png": "[encoded data removed]",
      "text/plain": [
       "<Figure size 720x432 with 4 Axes>"
      ]
     },
     "metadata": {
      "needs_background": "light"
     },
     "output_type": "display_data"
    }
   ],
   "source": [
    "data.hist(edgecolor= 'black', linewidth= 1.2, figsize= (10,6), bins= 5);"
   ]
  },
  {
   "cell_type": "code",
   "execution_count": 186,
   "id": "99cee7ae",
   "metadata": {},
   "outputs": [],
   "source": [
    "data.hist?"
   ]
  },
  {
   "cell_type": "code",
   "execution_count": null,
   "id": "38b448af",
   "metadata": {},
   "outputs": [],
   "source": [
    " "
   ]
  }
 ],
 "metadata": {
  "kernelspec": {
   "display_name": "Python 3",
   "language": "python",
   "name": "python3"
  },
  "language_info": {
   "codemirror_mode": {
    "name": "ipython",
    "version": 3
   },
   "file_extension": ".py",
   "mimetype": "text/x-python",
   "name": "python",
   "nbconvert_exporter": "python",
   "pygments_lexer": "ipython3",
   "version": "3.8.5"
  }
 },
 "nbformat": 4,
 "nbformat_minor": 5
}
