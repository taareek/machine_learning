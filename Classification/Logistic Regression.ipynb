{
 "cells": [
  {
   "cell_type": "code",
   "execution_count": 1,
   "metadata": {},
   "outputs": [],
   "source": [
    "import numpy as np\n",
    "import matplotlib.pyplot as plt\n",
    "import seaborn as sns\n",
    "%matplotlib inline "
   ]
  },
  {
   "cell_type": "code",
   "execution_count": 5,
   "metadata": {},
   "outputs": [
    {
     "data": {
      "image/png": "[encoded data removed]",
      "text/plain": [
       "<Figure size 720x576 with 1 Axes>"
      ]
     },
     "metadata": {
      "needs_background": "light"
     },
     "output_type": "display_data"
    }
   ],
   "source": [
    "# plotting sigmoid function\n",
    "x = np.linspace(-8, 8, num= 1000)\n",
    "plt.figure(figsize= (10,8))\n",
    "plt.plot(x,1/ (1 + np.exp(-x)));    # sigmoid\n",
    "plt.title(\"Sigmoid function\");"
   ]
  },
  {
   "cell_type": "code",
   "execution_count": 18,
   "metadata": {},
   "outputs": [
    {
     "name": "stdout",
     "output_type": "stream",
     "text": [
      "[0, 0.4, 1, 0.6, 0.3, 0.8, 0.9, 0.1]\n"
     ]
    }
   ],
   "source": [
    "# cut-off point / threshold\n",
    "a = [0, 0.4, 1, 0.6, 0.3, 0.8, 0.9, 0.1]\n",
    "print(a)"
   ]
  },
  {
   "cell_type": "code",
   "execution_count": 8,
   "metadata": {},
   "outputs": [
    {
     "name": "stdout",
     "output_type": "stream",
     "text": [
      "Values greater than 0.5 as 1 and less than 0.5 as 0: \n",
      " [0. 0. 1. 1. 0. 1. 1. 0.]\n"
     ]
    }
   ],
   "source": [
    "print(\"Values greater than 0.5 as 1 and less than 0.5 as 0: \\n\", np.round(a))"
   ]
  },
  {
   "cell_type": "code",
   "execution_count": 9,
   "metadata": {},
   "outputs": [
    {
     "data": {
      "text/plain": [
       "array([False, False,  True, False, False,  True,  True, False])"
      ]
     },
     "execution_count": 9,
     "metadata": {},
     "output_type": "execute_result"
    }
   ],
   "source": [
    "# defining cut-off point by own\n",
    "np.array(a) > 0.7"
   ]
  },
  {
   "cell_type": "code",
   "execution_count": 11,
   "metadata": {},
   "outputs": [],
   "source": [
    "for i in range(len(a)):\n",
    "    if a[i] > 0.4:\n",
    "        a[i] = 1\n",
    "    else:\n",
    "        a[i] = 0"
   ]
  },
  {
   "cell_type": "code",
   "execution_count": 12,
   "metadata": {},
   "outputs": [
    {
     "data": {
      "text/plain": [
       "[0, 0, 1, 1, 0, 1, 1, 0]"
      ]
     },
     "execution_count": 12,
     "metadata": {},
     "output_type": "execute_result"
    }
   ],
   "source": [
    "a"
   ]
  },
  {
   "cell_type": "code",
   "execution_count": 13,
   "metadata": {},
   "outputs": [],
   "source": [
    "# function to implement simple logistic regression\n",
    "\n",
    "def log_reg(arr, threshold):\n",
    "    for i in range(len(arr)):\n",
    "        if(arr[i] > threshold):\n",
    "            arr[i] = 1\n",
    "        else:\n",
    "            arr[i] = 0\n",
    "            \n",
    "    return arr"
   ]
  },
  {
   "cell_type": "code",
   "execution_count": 20,
   "metadata": {},
   "outputs": [
    {
     "name": "stdout",
     "output_type": "stream",
     "text": [
      "[0, 0.4, 1, 0.6, 0.3, 0.8, 0.9, 0.1]\n",
      "after applying threshold:  [0, 0, 1, 0, 0, 1, 1, 0]\n"
     ]
    }
   ],
   "source": [
    "# cut-off point / threshold\n",
    "a = [0, 0.4, 1, 0.6, 0.3, 0.8, 0.9, 0.1]\n",
    "print(a)\n",
    "c = log_reg(a, 0.6)\n",
    "print(\"after applying threshold: \", c)"
   ]
  },
  {
   "cell_type": "markdown",
   "metadata": {},
   "source": [
    "# Making prediction using Logistic Regression"
   ]
  },
  {
   "cell_type": "markdown",
   "metadata": {},
   "source": [
    "$$\\hat{y} = \\frac{1.0}{1.0 + e^{-\\beta_0-\\beta_1x_1}} $$\n",
    "$\\beta_0$ is the intercept term.<br>\n",
    "$\\beta_1$ is the coefficient for $x_1$.<br><br>\n",
    "$\\hat{y}$ is the predicted output with real value between 0 and 1. To convert this to binary output of 0 or 1, this would either need to be rounded to an integer value or a cutoff point be provided to the class segregation point. "
   ]
  },
  {
   "cell_type": "code",
   "execution_count": 21,
   "metadata": {},
   "outputs": [],
   "source": [
    "# making some dummy dataset\n",
    "\n",
    "dataset= [[-2.0011, 0],\n",
    "          [-1.4654, 0],\n",
    "          [0.0965, 0],\n",
    "          [1.3881, 0],\n",
    "          [3.0641, 0],\n",
    "          [7.6275, 1],\n",
    "          [5.3324, 1],\n",
    "          [6.9225, 1],\n",
    "          [8.6754, 1],\n",
    "          [7.6737, 1]]"
   ]
  },
  {
   "cell_type": "code",
   "execution_count": 22,
   "metadata": {},
   "outputs": [
    {
     "name": "stdout",
     "output_type": "stream",
     "text": [
      "[[-2.0011, 0], [-1.4654, 0], [0.0965, 0], [1.3881, 0], [3.0641, 0], [7.6275, 1], [5.3324, 1], [6.9225, 1], [8.6754, 1], [7.6737, 1]]\n"
     ]
    }
   ],
   "source": [
    "print(dataset)"
   ]
  },
  {
   "cell_type": "code",
   "execution_count": 27,
   "metadata": {},
   "outputs": [],
   "source": [
    "d = dataset[0]"
   ]
  },
  {
   "cell_type": "code",
   "execution_count": 29,
   "metadata": {},
   "outputs": [
    {
     "data": {
      "text/plain": [
       "-2.0011"
      ]
     },
     "execution_count": 29,
     "metadata": {},
     "output_type": "execute_result"
    }
   ],
   "source": [
    "d[0]"
   ]
  },
  {
   "cell_type": "code",
   "execution_count": 37,
   "metadata": {},
   "outputs": [
    {
     "data": {
      "text/plain": [
       "[[-2.0011, 0]]"
      ]
     },
     "execution_count": 37,
     "metadata": {},
     "output_type": "execute_result"
    }
   ],
   "source": [
    "c"
   ]
  },
  {
   "cell_type": "code",
   "execution_count": 38,
   "metadata": {},
   "outputs": [],
   "source": [
    "v = np.array(dataset)"
   ]
  },
  {
   "cell_type": "code",
   "execution_count": 50,
   "metadata": {},
   "outputs": [
    {
     "data": {
      "text/plain": [
       "array([-2.0011, -1.4654,  0.0965,  1.3881,  3.0641,  7.6275,  5.3324,\n",
       "        6.9225,  8.6754,  7.6737])"
      ]
     },
     "execution_count": 50,
     "metadata": {},
     "output_type": "execute_result"
    }
   ],
   "source": [
    "# slicing \n",
    "v[:,0]"
   ]
  },
  {
   "cell_type": "code",
   "execution_count": 52,
   "metadata": {},
   "outputs": [],
   "source": [
    "# defining coeficient \n",
    "coef = [-0.806605464, 0.2573316]"
   ]
  },
  {
   "cell_type": "code",
   "execution_count": 59,
   "metadata": {},
   "outputs": [
    {
     "name": "stdout",
     "output_type": "stream",
     "text": [
      "predicted value: 0.2106, y_hat: 0.0, original value: 0\n",
      "predicted value: 0.2344, y_hat: 0.0, original value: 0\n",
      "predicted value: 0.3139, y_hat: 0.0, original value: 0\n",
      "predicted value: 0.3895, y_hat: 0.0, original value: 0\n",
      "predicted value: 0.4955, y_hat: 0.0, original value: 0\n",
      "predicted value: 0.7606, y_hat: 1.0, original value: 1\n",
      "predicted value: 0.6377, y_hat: 1.0, original value: 1\n",
      "predicted value: 0.7261, y_hat: 1.0, original value: 1\n",
      "predicted value: 0.8063, y_hat: 1.0, original value: 1\n",
      "predicted value: 0.7628, y_hat: 1.0, original value: 1\n"
     ]
    }
   ],
   "source": [
    "# getting prediction by applying above formula for logistic regression\n",
    "\n",
    "for row in dataset:\n",
    "    y_hat = 1.0/ (1.0 + np.exp(-coef[0]- coef[1]* row[0]))\n",
    "    print(\"predicted value: {0:.4f}, y_hat: {1}, original value: {2}\".format(y_hat, round(y_hat), row[1]))"
   ]
  },
  {
   "cell_type": "markdown",
   "metadata": {},
   "source": [
    "# Using Scikit learn to estimate coefficients"
   ]
  },
  {
   "cell_type": "code",
   "execution_count": 60,
   "metadata": {},
   "outputs": [],
   "source": [
    "from sklearn.linear_model import LogisticRegression"
   ]
  },
  {
   "cell_type": "code",
   "execution_count": 61,
   "metadata": {},
   "outputs": [
    {
     "data": {
      "text/plain": [
       "[[-2.0011, 0],\n",
       " [-1.4654, 0],\n",
       " [0.0965, 0],\n",
       " [1.3881, 0],\n",
       " [3.0641, 0],\n",
       " [7.6275, 1],\n",
       " [5.3324, 1],\n",
       " [6.9225, 1],\n",
       " [8.6754, 1],\n",
       " [7.6737, 1]]"
      ]
     },
     "execution_count": 61,
     "metadata": {},
     "output_type": "execute_result"
    }
   ],
   "source": [
    "dataset"
   ]
  },
  {
   "cell_type": "code",
   "execution_count": 69,
   "metadata": {},
   "outputs": [],
   "source": [
    "# splitting dataset for fearture and class\n",
    "X = np.array(dataset)[:,0:1]\n",
    "y = np.array(dataset)[:,1]"
   ]
  },
  {
   "cell_type": "code",
   "execution_count": 70,
   "metadata": {},
   "outputs": [
    {
     "name": "stdout",
     "output_type": "stream",
     "text": [
      "[[-2.0011]\n",
      " [-1.4654]\n",
      " [ 0.0965]\n",
      " [ 1.3881]\n",
      " [ 3.0641]\n",
      " [ 7.6275]\n",
      " [ 5.3324]\n",
      " [ 6.9225]\n",
      " [ 8.6754]\n",
      " [ 7.6737]]\n"
     ]
    }
   ],
   "source": [
    "print(X)"
   ]
  },
  {
   "cell_type": "code",
   "execution_count": 71,
   "metadata": {},
   "outputs": [
    {
     "name": "stdout",
     "output_type": "stream",
     "text": [
      "[0. 0. 0. 0. 0. 1. 1. 1. 1. 1.]\n"
     ]
    }
   ],
   "source": [
    "print(y)"
   ]
  },
  {
   "cell_type": "code",
   "execution_count": 74,
   "metadata": {},
   "outputs": [],
   "source": [
    "# instantiate logistic regression\n",
    "clf_LR = LogisticRegression(C= 1.0, penalty= 'l2', tol= 0.01)"
   ]
  },
  {
   "cell_type": "code",
   "execution_count": 75,
   "metadata": {},
   "outputs": [
    {
     "data": {
      "text/plain": [
       "LogisticRegression(tol=0.01)"
      ]
     },
     "execution_count": 75,
     "metadata": {},
     "output_type": "execute_result"
    }
   ],
   "source": [
    "# fit the model\n",
    "clf_LR.fit(X,y)"
   ]
  },
  {
   "cell_type": "code",
   "execution_count": 77,
   "metadata": {},
   "outputs": [
    {
     "data": {
      "text/plain": [
       "array([0., 0., 0., 0., 0., 1., 1., 1., 1., 1.])"
      ]
     },
     "execution_count": 77,
     "metadata": {},
     "output_type": "execute_result"
    }
   ],
   "source": [
    "# predict\n",
    "clf_LR.predict(X)"
   ]
  },
  {
   "cell_type": "code",
   "execution_count": 78,
   "metadata": {},
   "outputs": [
    {
     "data": {
      "text/plain": [
       "array([[0.9985344 , 0.0014656 ],\n",
       "       [0.9974073 , 0.0025927 ],\n",
       "       [0.98642688, 0.01357312],\n",
       "       [0.94823709, 0.05176291],\n",
       "       [0.75393859, 0.24606141],\n",
       "       [0.02299601, 0.97700399],\n",
       "       [0.21409383, 0.78590617],\n",
       "       [0.0475628 , 0.9524372 ],\n",
       "       [0.00763595, 0.99236405],\n",
       "       [0.02191419, 0.97808581]])"
      ]
     },
     "execution_count": 78,
     "metadata": {},
     "output_type": "execute_result"
    }
   ],
   "source": [
    "# getting probability distribution\n",
    "clf_LR.predict_proba(X)"
   ]
  },
  {
   "cell_type": "markdown",
   "metadata": {},
   "source": [
    "# Classification Exercise"
   ]
  },
  {
   "cell_type": "code",
   "execution_count": 98,
   "metadata": {},
   "outputs": [],
   "source": [
    "dataset_2 = [[0.2, 0.],\n",
    "             [0.2, 0.],\n",
    "             [0.2, 0.],\n",
    "             [0.2, 0.],\n",
    "             [0.2, 0.],\n",
    "             [0.4, 0.],\n",
    "             [0.3, 0.],\n",
    "             [0.2, 0.],\n",
    "             [0.2, 0.],\n",
    "             [0.1, 0.],\n",
    "             [1.4, 1.],\n",
    "             [1.5, 1.],\n",
    "             [1.5, 1.],\n",
    "             [1.3, 1.],\n",
    "             [1.5, 1.],\n",
    "             [1.3, 1.],\n",
    "             [1.6, 1.],\n",
    "             [1., 1.],\n",
    "             [1.3, 1.],\n",
    "             [1.4, 1.]]"
   ]
  },
  {
   "cell_type": "code",
   "execution_count": 99,
   "metadata": {},
   "outputs": [],
   "source": [
    "# splitting dataset \n",
    "X_1 = np.array(dataset_2)[:,0:1]\n",
    "y_1 = np.array(dataset_2)[:,1]"
   ]
  },
  {
   "cell_type": "code",
   "execution_count": 100,
   "metadata": {},
   "outputs": [
    {
     "name": "stdout",
     "output_type": "stream",
     "text": [
      "[[0.2]\n",
      " [0.2]\n",
      " [0.2]\n",
      " [0.2]\n",
      " [0.2]\n",
      " [0.4]\n",
      " [0.3]\n",
      " [0.2]\n",
      " [0.2]\n",
      " [0.1]\n",
      " [1.4]\n",
      " [1.5]\n",
      " [1.5]\n",
      " [1.3]\n",
      " [1.5]\n",
      " [1.3]\n",
      " [1.6]\n",
      " [1. ]\n",
      " [1.3]\n",
      " [1.4]]\n"
     ]
    }
   ],
   "source": [
    "print(X_1)"
   ]
  },
  {
   "cell_type": "code",
   "execution_count": 101,
   "metadata": {},
   "outputs": [
    {
     "name": "stdout",
     "output_type": "stream",
     "text": [
      "[0. 0. 0. 0. 0. 0. 0. 0. 0. 0. 1. 1. 1. 1. 1. 1. 1. 1. 1. 1.]\n"
     ]
    }
   ],
   "source": [
    "print(y_1)"
   ]
  },
  {
   "cell_type": "code",
   "execution_count": 102,
   "metadata": {},
   "outputs": [
    {
     "name": "stdout",
     "output_type": "stream",
     "text": [
      "Number of samples in second dummy dataset:  20\n"
     ]
    }
   ],
   "source": [
    "print(\"Number of samples in second dummy dataset: \", len(X_1))"
   ]
  },
  {
   "cell_type": "code",
   "execution_count": 108,
   "metadata": {},
   "outputs": [],
   "source": [
    "# importing logistic regression from scikit learn \n",
    "from sklearn.linear_model import LogisticRegression"
   ]
  },
  {
   "cell_type": "code",
   "execution_count": 115,
   "metadata": {},
   "outputs": [],
   "source": [
    "# instantiate model\n",
    "LR_2 = LogisticRegression(C= 1.0, penalty= 'l2', tol= 0.001)"
   ]
  },
  {
   "cell_type": "code",
   "execution_count": 116,
   "metadata": {},
   "outputs": [
    {
     "data": {
      "text/plain": [
       "LogisticRegression(tol=0.001)"
      ]
     },
     "execution_count": 116,
     "metadata": {},
     "output_type": "execute_result"
    }
   ],
   "source": [
    "# fit the model \n",
    "LR_2.fit(X_1, y_1)"
   ]
  },
  {
   "cell_type": "code",
   "execution_count": 119,
   "metadata": {},
   "outputs": [],
   "source": [
    "# predict the model \n",
    "y_pred = LR_2.predict(X_1)"
   ]
  },
  {
   "cell_type": "code",
   "execution_count": 120,
   "metadata": {},
   "outputs": [
    {
     "data": {
      "text/plain": [
       "array([[0.79820323, 0.20179677],\n",
       "       [0.79820323, 0.20179677],\n",
       "       [0.79820323, 0.20179677],\n",
       "       [0.79820323, 0.20179677],\n",
       "       [0.79820323, 0.20179677],\n",
       "       [0.71335635, 0.28664365],\n",
       "       [0.75830731, 0.24169269],\n",
       "       [0.79820323, 0.20179677],\n",
       "       [0.79820323, 0.20179677],\n",
       "       [0.83296421, 0.16703579],\n",
       "       [0.19701391, 0.80298609],\n",
       "       [0.16290866, 0.83709134],\n",
       "       [0.16290866, 0.83709134],\n",
       "       [0.2362441 , 0.7637559 ],\n",
       "       [0.16290866, 0.83709134],\n",
       "       [0.2362441 , 0.7637559 ],\n",
       "       [0.13372419, 0.86627581],\n",
       "       [0.38264387, 0.61735613],\n",
       "       [0.2362441 , 0.7637559 ],\n",
       "       [0.19701391, 0.80298609]])"
      ]
     },
     "execution_count": 120,
     "metadata": {},
     "output_type": "execute_result"
    }
   ],
   "source": [
    "# getting probbility distribution \n",
    "LR_2.predict_proba(X_1)"
   ]
  },
  {
   "cell_type": "code",
   "execution_count": 122,
   "metadata": {},
   "outputs": [
    {
     "data": {
      "text/plain": [
       "array([[0., 0.],\n",
       "       [0., 0.],\n",
       "       [0., 0.],\n",
       "       [0., 0.],\n",
       "       [0., 0.],\n",
       "       [0., 0.],\n",
       "       [0., 0.],\n",
       "       [0., 0.],\n",
       "       [0., 0.],\n",
       "       [0., 0.],\n",
       "       [1., 1.],\n",
       "       [1., 1.],\n",
       "       [1., 1.],\n",
       "       [1., 1.],\n",
       "       [1., 1.],\n",
       "       [1., 1.],\n",
       "       [1., 1.],\n",
       "       [1., 1.],\n",
       "       [1., 1.],\n",
       "       [1., 1.]])"
      ]
     },
     "execution_count": 122,
     "metadata": {},
     "output_type": "execute_result"
    }
   ],
   "source": [
    "# comparision of prediction and truth value\n",
    "np.column_stack((y_1, y_pred))"
   ]
  },
  {
   "cell_type": "code",
   "execution_count": null,
   "metadata": {},
   "outputs": [],
   "source": []
  }
 ],
 "metadata": {
  "kernelspec": {
   "display_name": "Python 3",
   "language": "python",
   "name": "python3"
  },
  "language_info": {
   "codemirror_mode": {
    "name": "ipython",
    "version": 3
   },
   "file_extension": ".py",
   "mimetype": "text/x-python",
   "name": "python",
   "nbconvert_exporter": "python",
   "pygments_lexer": "ipython3",
   "version": "3.8.3"
  }
 },
 "nbformat": 4,
 "nbformat_minor": 4
}
